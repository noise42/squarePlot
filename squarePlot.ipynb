{
 "cells": [
  {
   "cell_type": "code",
   "execution_count": 48,
   "metadata": {
    "collapsed": true
   },
   "outputs": [],
   "source": [
    "import numpy as np\n",
    "import matplotlib.pyplot as plt"
   ]
  },
  {
   "cell_type": "code",
   "execution_count": 49,
   "metadata": {},
   "outputs": [
    {
     "data": {
      "image/png": "[encoded data removed]",
      "text/plain": [
       "<Figure size 432x288 with 1 Axes>"
      ]
     },
     "metadata": {
      "needs_background": "light"
     },
     "output_type": "display_data"
    }
   ],
   "source": [
    "def squarePlot(data, \n",
    "               xlabel=\"\", ylabel=\"\", title=\"\", \n",
    "               group_labels=(\"\",), scale_factor=1.2,\n",
    "               cmap = \"viridis\"):\n",
    "    \"\"\"\n",
    "    data is in the form (val_1, val_2, ...)\n",
    "    groups must be the same length as data and contains group names\n",
    "    scale_factor is how much free space you need outside the colored areas (for the legend)\n",
    "    \"\"\"\n",
    "    fig,ax = plt.subplots()\n",
    "    x = data\n",
    "    length=len(data)\n",
    "    cmap_ = plt.get_cmap(cmap)\n",
    "    my_colors = cmap_(np.linspace(0,1,length))\n",
    "    \n",
    "    ax.fill_between(np.arange(x[0]+1),0, data[0], alpha=0.5, \n",
    "                    label= group_labels[0], color=my_colors[0])\n",
    "    for i, stuff in enumerate(zip(data[1:],group_labels[1:], x[1:], my_colors[1:])):\n",
    "        group, glabel, width, color = stuff\n",
    "        #vertical\n",
    "        ax.fill_between(np.arange(x[i], x[i+1]+1),0, data[i+1], alpha=0.5, \n",
    "                        label= glabel, color=color, lw=0)\n",
    "        #horizontal\n",
    "        ax.fill_between(np.arange(0, x[i]+1), data[i], data[i+1], alpha=0.5, \n",
    "                        color=color, lw=0)\n",
    "        \n",
    "    ax.set_ylim((0, scale_factor* max(data)))\n",
    "    ax.set_xlim((0, scale_factor* max(data)))\n",
    "    plt.title(title)\n",
    "    plt.legend()\n",
    "    \n",
    "data = (20, 30, 41, 90)\n",
    "group_labels = ('a','b','c', 'd')\n",
    "squarePlot(data, group_labels=group_labels)"
   ]
  },
  {
   "cell_type": "code",
   "execution_count": null,
   "metadata": {
    "collapsed": true
   },
   "outputs": [],
   "source": []
  },
  {
   "cell_type": "code",
   "execution_count": null,
   "metadata": {
    "collapsed": true
   },
   "outputs": [],
   "source": []
  }
 ],
 "metadata": {
  "kernelspec": {
   "display_name": "py36",
   "language": "python",
   "name": "py36"
  },
  "language_info": {
   "codemirror_mode": {
    "name": "ipython",
    "version": 3
   },
   "file_extension": ".py",
   "mimetype": "text/x-python",
   "name": "python",
   "nbconvert_exporter": "python",
   "pygments_lexer": "ipython3",
   "version": "3.6.10"
  }
 },
 "nbformat": 4,
 "nbformat_minor": 2
}
